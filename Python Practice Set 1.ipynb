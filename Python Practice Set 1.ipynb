{
 "cells": [
  {
   "cell_type": "code",
   "execution_count": 42,
   "id": "165a8186",
   "metadata": {},
   "outputs": [
    {
     "name": "stdout",
     "output_type": "stream",
     "text": [
      "nohtyP gninrael ma I\n"
     ]
    }
   ],
   "source": [
    "'''Question 1: Reversing a String\n",
    "  Write a Python function to reverse a given string.\n",
    "  The string is “I am learning Python”\n",
    "  Create a function for reversing the string \n",
    "  The name of the function should be “reverse_string”\n",
    "'''\n",
    "def reverse_string(string):\n",
    "    str = \"\"\n",
    "    for i in string:\n",
    "        str = i + str\n",
    "    return str\n",
    "string = \"I am learning Python\"\n",
    "print(reverse_string(string))\n"
   ]
  },
  {
   "cell_type": "code",
   "execution_count": 46,
   "id": "bdcc1528",
   "metadata": {},
   "outputs": [
    {
     "name": "stdout",
     "output_type": "stream",
     "text": [
      "Prime numbers between 1 to 20 are: [2, 3, 5, 7, 11, 13, 17, 19]\n"
     ]
    }
   ],
   "source": [
    "\"\"\"Question 2: Finding Prime Numbers\n",
    " Write a Python function to generate a list of prime numbers up to a given number n.\n",
    " Create a function named generate_prime which will take an input of numbers \n",
    " Find prime no till 20 \"\"\"\n",
    "\n",
    "def generate_prime():\n",
    "    prime_numbers = []\n",
    "    for number in range(2, 20 + 1):\n",
    "        if number > 1:\n",
    "            for i in range(2, number):\n",
    "                if (number % i) == 0:\n",
    "                    break\n",
    "            else:\n",
    "                prime_numbers.append(number)\n",
    "\n",
    "    print(\"Prime numbers between 1 to 20 are:\", prime_numbers)\n",
    "\n",
    "generate_prime()"
   ]
  },
  {
   "cell_type": "code",
   "execution_count": null,
   "id": "a35b9dce",
   "metadata": {},
   "outputs": [],
   "source": [
    "'''Question 3: Calculating Factorial \n",
    " Write a Python function to calculate the factorial of a given non-negative integer.\n",
    " If someone tries to find the factorial of 0 & 1 it should return 1 to the user The\n",
    "  function name should be “factorial” taking an input parameter “n”'''\n",
    "\n",
    "def factorial(n):\n",
    "    if n == 0 or n == 1:\n",
    "        return 1\n",
    "    \n",
    "    factorial = 1\n",
    "    \n",
    "    for i in range(2, n + 1):\n",
    "        factorial *= i\n",
    "    \n",
    "    return factorial\n",
    "\n",
    "n = int(input(\"Please enter a number to find the factorial: \"))\n",
    "result = factorial(n)\n",
    "\n",
    "print(result)\n"
   ]
  },
  {
   "cell_type": "code",
   "execution_count": 43,
   "id": "f2fb6cc5",
   "metadata": {},
   "outputs": [
    {
     "name": "stdout",
     "output_type": "stream",
     "text": [
      "Number of words in the sentence: 5\n"
     ]
    }
   ],
   "source": [
    "'''Question 4: Counting Words in a Sentence \n",
    " Write a Python function to count the number of words in a given sentence.\n",
    "  It should count the words in a sentence  The function name is count_words taking'''\n",
    "\n",
    "\n",
    "def count_words(sentence):\n",
    "    \n",
    "    wordcount = 0\n",
    "    \n",
    "    for i in sentence:\n",
    "        if i == ' ':\n",
    "            wordcount += 1\n",
    "    wordcount += 1\n",
    "    \n",
    "    return wordcount\n",
    "\n",
    "sentence = \"Counting Words in a Sentence.\"\n",
    "result = count_words(sentence)\n",
    "\n",
    "print(f\"Number of words in the sentence: {result}\")\n"
   ]
  },
  {
   "cell_type": "code",
   "execution_count": 41,
   "id": "6a011330",
   "metadata": {},
   "outputs": [
    {
     "name": "stdout",
     "output_type": "stream",
     "text": [
      "Maximum element in the list: 31\n"
     ]
    }
   ],
   "source": [
    "'''Question 5: Finding Maximum Element \n",
    " Write a Python function to find the maximum element in a list. \n",
    " List of no is [ 10 , 5 , 20 , 3, 2, 8, 20 , 2] \n",
    " If the list is empty it should return None \n",
    " Create function with name find_max_element'''\n",
    "\n",
    "def find_max_element(test):\n",
    "    \n",
    "    \n",
    "    maxelement = test[0]\n",
    "    \n",
    "    for x in test:\n",
    "        if x > maxelement:\n",
    "            maxelement = x\n",
    "    \n",
    "    return maxelement\n",
    "\n",
    "# Example Usage:\n",
    "list = [10, 5, 20, 3, 2, 8, 20, 2]\n",
    "result = find_max_element(list)\n",
    "\n",
    "print(f\"Maximum element in the list: {result}\")\n"
   ]
  }
 ],
 "metadata": {
  "kernelspec": {
   "display_name": "Python 3 (ipykernel)",
   "language": "python",
   "name": "python3"
  },
  "language_info": {
   "codemirror_mode": {
    "name": "ipython",
    "version": 3
   },
   "file_extension": ".py",
   "mimetype": "text/x-python",
   "name": "python",
   "nbconvert_exporter": "python",
   "pygments_lexer": "ipython3",
   "version": "3.11.5"
  }
 },
 "nbformat": 4,
 "nbformat_minor": 5
}
